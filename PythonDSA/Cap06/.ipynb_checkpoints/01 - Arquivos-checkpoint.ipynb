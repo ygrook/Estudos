{
 "cells": [
  {
   "cell_type": "markdown",
   "id": "823c0db6",
   "metadata": {},
   "source": [
    "# Manipulação de Arquivos"
   ]
  },
  {
   "cell_type": "code",
   "execution_count": 1,
   "id": "85871ba9",
   "metadata": {},
   "outputs": [],
   "source": [
    "# Abrindo arquivo para leitura\n",
    "arq1 = open(\"arquivos/arquivo1.txt\", \"r\") # r = read"
   ]
  },
  {
   "cell_type": "code",
   "execution_count": 2,
   "id": "21636720",
   "metadata": {},
   "outputs": [
    {
     "ename": "NameError",
     "evalue": "name 'arg1' is not defined",
     "output_type": "error",
     "traceback": [
      "\u001b[1;31m---------------------------------------------------------------------------\u001b[0m",
      "\u001b[1;31mNameError\u001b[0m                                 Traceback (most recent call last)",
      "\u001b[1;32m~\\AppData\\Local\\Temp\\ipykernel_11432\\3618463300.py\u001b[0m in \u001b[0;36m<module>\u001b[1;34m\u001b[0m\n\u001b[1;32m----> 1\u001b[1;33m \u001b[0mtype\u001b[0m\u001b[1;33m(\u001b[0m\u001b[0marg1\u001b[0m\u001b[1;33m)\u001b[0m\u001b[1;33m\u001b[0m\u001b[1;33m\u001b[0m\u001b[0m\n\u001b[0m",
      "\u001b[1;31mNameError\u001b[0m: name 'arg1' is not defined"
     ]
    }
   ],
   "source": [
    "type(arg1)"
   ]
  },
  {
   "cell_type": "code",
   "execution_count": null,
   "id": "a0adc718",
   "metadata": {},
   "outputs": [],
   "source": [
    "print(arq1.read())"
   ]
  },
  {
   "cell_type": "code",
   "execution_count": null,
   "id": "758c8051",
   "metadata": {},
   "outputs": [],
   "source": [
    "# Contar número de caracteres\n",
    "print(arq1.tell())"
   ]
  },
  {
   "cell_type": "code",
   "execution_count": null,
   "id": "3f530bde",
   "metadata": {},
   "outputs": [],
   "source": [
    "# Retornar para início do arquivo\n",
    "print(arq1.seek(0,0))"
   ]
  },
  {
   "cell_type": "code",
   "execution_count": null,
   "id": "13b1c494",
   "metadata": {},
   "outputs": [],
   "source": [
    "# Lendo os primeiros 23 caracteres\n",
    "print(arq1.read(23))"
   ]
  },
  {
   "cell_type": "code",
   "execution_count": null,
   "id": "5f58a5a3",
   "metadata": {},
   "outputs": [],
   "source": [
    "print(arq1.read())"
   ]
  },
  {
   "cell_type": "markdown",
   "id": "1dfe1c0b",
   "metadata": {},
   "source": [
    "# Gravando arquivo"
   ]
  },
  {
   "cell_type": "code",
   "execution_count": null,
   "id": "c03b9942",
   "metadata": {},
   "outputs": [],
   "source": [
    "arq2 = open('arquivos/arquivo2.txt', \"w\")"
   ]
  },
  {
   "cell_type": "code",
   "execution_count": null,
   "id": "40541918",
   "metadata": {},
   "outputs": [],
   "source": [
    "# Como abrimos arquivos apenas para gravação, não podemos usar comandos de leitura\n",
    "print(arq2.read())"
   ]
  },
  {
   "cell_type": "code",
   "execution_count": null,
   "id": "911858bb",
   "metadata": {},
   "outputs": [],
   "source": [
    "# Gravando arquivo\n",
    "arq2.write('Aprendendo a programa em Python')"
   ]
  },
  {
   "cell_type": "code",
   "execution_count": null,
   "id": "9ca11129",
   "metadata": {},
   "outputs": [],
   "source": [
    "arq2.close()"
   ]
  },
  {
   "cell_type": "code",
   "execution_count": null,
   "id": "34e57c8b",
   "metadata": {},
   "outputs": [],
   "source": [
    "arq2 = open('arquivos/arquivo2.txt', 'a') # a = append"
   ]
  },
  {
   "cell_type": "code",
   "execution_count": null,
   "id": "ff0253a0",
   "metadata": {},
   "outputs": [],
   "source": [
    "arq2.write('E a metodologia de ensino da Data Science Academy facilita o aprendizado ')"
   ]
  },
  {
   "cell_type": "code",
   "execution_count": null,
   "id": "cca5b94c",
   "metadata": {},
   "outputs": [],
   "source": [
    "arq2.close()"
   ]
  },
  {
   "cell_type": "code",
   "execution_count": null,
   "id": "fc28e82c",
   "metadata": {},
   "outputs": [],
   "source": [
    "arq2 = open('arquivos/arquivo2.txt', 'r')"
   ]
  },
  {
   "cell_type": "code",
   "execution_count": null,
   "id": "3d1c44f9",
   "metadata": {},
   "outputs": [],
   "source": [
    "print(arq2.read())"
   ]
  },
  {
   "cell_type": "markdown",
   "id": "041318c6",
   "metadata": {},
   "source": [
    "# Abrindo Dataset em Linha ùnica"
   ]
  },
  {
   "cell_type": "code",
   "execution_count": null,
   "id": "59e7d79a",
   "metadata": {},
   "outputs": [],
   "source": [
    "f = open('arquivos/salarios.csv', 'r')"
   ]
  },
  {
   "cell_type": "code",
   "execution_count": null,
   "id": "4e08de3e",
   "metadata": {},
   "outputs": [],
   "source": [
    "data = f.read()"
   ]
  },
  {
   "cell_type": "code",
   "execution_count": null,
   "id": "d76c78af",
   "metadata": {},
   "outputs": [],
   "source": [
    "rows = data.split('/n')"
   ]
  },
  {
   "cell_type": "code",
   "execution_count": null,
   "id": "578a2b0d",
   "metadata": {},
   "outputs": [],
   "source": [
    "print(rows)"
   ]
  },
  {
   "cell_type": "markdown",
   "id": "95738cac",
   "metadata": {},
   "source": [
    "# Dividindo um Arquivo em Colunas"
   ]
  },
  {
   "cell_type": "code",
   "execution_count": null,
   "id": "fbcb7757",
   "metadata": {},
   "outputs": [],
   "source": [
    "f = open('arquivos/salarios.csv', 'r')"
   ]
  },
  {
   "cell_type": "code",
   "execution_count": null,
   "id": "d0c6c619",
   "metadata": {},
   "outputs": [],
   "source": [
    "data = f.read()"
   ]
  },
  {
   "cell_type": "code",
   "execution_count": null,
   "id": "e8469edd",
   "metadata": {},
   "outputs": [],
   "source": [
    "rows = data.split('/n')"
   ]
  },
  {
   "cell_type": "code",
   "execution_count": null,
   "id": "caa3b547",
   "metadata": {},
   "outputs": [],
   "source": [
    "full_data = [ ]"
   ]
  },
  {
   "cell_type": "code",
   "execution_count": null,
   "id": "595fec9c",
   "metadata": {},
   "outputs": [],
   "source": [
    "type(rows)"
   ]
  },
  {
   "cell_type": "code",
   "execution_count": null,
   "id": "62f41f3c",
   "metadata": {},
   "outputs": [],
   "source": [
    "for row in rows:\n",
    "    split_row = row.split(\",\")\n",
    "    full_data.append(split_row)"
   ]
  },
  {
   "cell_type": "code",
   "execution_count": null,
   "id": "667dc077",
   "metadata": {},
   "outputs": [],
   "source": [
    "print(full_data)"
   ]
  },
  {
   "cell_type": "markdown",
   "id": "4d1bd899",
   "metadata": {},
   "source": [
    "# COntando as linhas de um arquivo"
   ]
  },
  {
   "cell_type": "code",
   "execution_count": 23,
   "id": "33e2f9a5",
   "metadata": {},
   "outputs": [],
   "source": [
    "f = open('arquivos/salarios.csv', \"r\")"
   ]
  },
  {
   "cell_type": "code",
   "execution_count": 24,
   "id": "d36a4075",
   "metadata": {},
   "outputs": [],
   "source": [
    "data = f.read()"
   ]
  },
  {
   "cell_type": "code",
   "execution_count": 30,
   "id": "95ff7ea1",
   "metadata": {},
   "outputs": [],
   "source": [
    "rows = data.split('\\n')"
   ]
  },
  {
   "cell_type": "code",
   "execution_count": 31,
   "id": "042432e3",
   "metadata": {},
   "outputs": [],
   "source": [
    "full_data = [ ]"
   ]
  },
  {
   "cell_type": "code",
   "execution_count": 32,
   "id": "5392500c",
   "metadata": {},
   "outputs": [],
   "source": [
    "for row in rows:\n",
    "    split_row = row.split(',')\n",
    "    full_data.append(split_row)"
   ]
  },
  {
   "cell_type": "code",
   "execution_count": 33,
   "id": "5ba240d0",
   "metadata": {},
   "outputs": [],
   "source": [
    "count = 0 \n",
    "for row in full_data:\n",
    "    count += 1"
   ]
  },
  {
   "cell_type": "code",
   "execution_count": 34,
   "id": "a5a21b8d",
   "metadata": {},
   "outputs": [
    {
     "name": "stdout",
     "output_type": "stream",
     "text": [
      "32184\n"
     ]
    }
   ],
   "source": [
    "print(count)"
   ]
  },
  {
   "cell_type": "code",
   "execution_count": 22,
   "id": "5017a87c",
   "metadata": {},
   "outputs": [
    {
     "data": {
      "text/plain": [
       "0"
      ]
     },
     "execution_count": 22,
     "metadata": {},
     "output_type": "execute_result"
    }
   ],
   "source": [
    "f.seek(0,0)"
   ]
  },
  {
   "cell_type": "markdown",
   "id": "a58b7df7",
   "metadata": {},
   "source": [
    "# Contando o Número de colunas em um arquivo"
   ]
  },
  {
   "cell_type": "code",
   "execution_count": 35,
   "id": "bbe7edb2",
   "metadata": {},
   "outputs": [],
   "source": [
    "f = open('arquivos/salarios.csv', 'r')\n",
    "data = f.read()\n",
    "rows = data.split('\\n')\n",
    "full_data = [ ]"
   ]
  },
  {
   "cell_type": "code",
   "execution_count": 36,
   "id": "4ad3a2dd",
   "metadata": {},
   "outputs": [],
   "source": [
    "for row in rows:\n",
    "    split_row = row.split(',')\n",
    "    full_data.append(split_row)\n",
    "    first_row = full_data[0]\n",
    "    "
   ]
  },
  {
   "cell_type": "code",
   "execution_count": 37,
   "id": "85014ac7",
   "metadata": {},
   "outputs": [],
   "source": [
    "count = 0 \n",
    "for column in first_row:\n",
    "    count = count +1"
   ]
  },
  {
   "cell_type": "code",
   "execution_count": 38,
   "id": "e01080c2",
   "metadata": {},
   "outputs": [
    {
     "name": "stdout",
     "output_type": "stream",
     "text": [
      "4\n"
     ]
    }
   ],
   "source": [
    "print(count)"
   ]
  },
  {
   "cell_type": "markdown",
   "id": "bd29f652",
   "metadata": {},
   "source": [
    "# Gravando Arquivo pelo Jupyter Notebook"
   ]
  },
  {
   "cell_type": "code",
   "execution_count": 40,
   "id": "df6cefd2",
   "metadata": {},
   "outputs": [
    {
     "name": "stdout",
     "output_type": "stream",
     "text": [
      "Writing arquivos/arquivo3.txt\n"
     ]
    }
   ],
   "source": [
    "%%writefile arquivos/arquivo3.txt\n",
    "Esse arquivo foi gerado pelo Jupyter Notebook\n",
    "Podemos gerar quantas linhas quisermos e o Jupyter grava um arquivo final"
   ]
  },
  {
   "cell_type": "code",
   "execution_count": 41,
   "id": "cf58b235",
   "metadata": {},
   "outputs": [],
   "source": [
    "arq3 = open('arquivos/arquivo3.txt', 'r')"
   ]
  },
  {
   "cell_type": "code",
   "execution_count": 42,
   "id": "5b34416f",
   "metadata": {},
   "outputs": [
    {
     "data": {
      "text/plain": [
       "'Esse arquivo foi gerado pelo Jupyter Notebook\\nPodemos gerar quantas linhas quisermos e o Jupyter grava um arquivo final\\n'"
      ]
     },
     "execution_count": 42,
     "metadata": {},
     "output_type": "execute_result"
    }
   ],
   "source": [
    "arq3.read()"
   ]
  },
  {
   "cell_type": "code",
   "execution_count": 46,
   "id": "012691bc",
   "metadata": {},
   "outputs": [
    {
     "data": {
      "text/plain": [
       "['Esse arquivo foi gerado pelo Jupyter Notebook\\n',\n",
       " 'Podemos gerar quantas linhas quisermos e o Jupyter grava um arquivo final\\n']"
      ]
     },
     "execution_count": 46,
     "metadata": {},
     "output_type": "execute_result"
    }
   ],
   "source": [
    "arq3.seek(0)\n",
    "arq3.readlines()"
   ]
  },
  {
   "cell_type": "code",
   "execution_count": 47,
   "id": "444fb8d2",
   "metadata": {},
   "outputs": [
    {
     "name": "stdout",
     "output_type": "stream",
     "text": [
      "Esse arquivo foi gerado pelo Jupyter Notebook\n",
      "\n",
      "Podemos gerar quantas linhas quisermos e o Jupyter grava um arquivo final\n",
      "\n"
     ]
    }
   ],
   "source": [
    "for line in open('arquivos/arquivo3.txt'):\n",
    "    print(line)"
   ]
  },
  {
   "cell_type": "markdown",
   "id": "5af63539",
   "metadata": {},
   "source": [
    "# Importando um Dataset com Panda"
   ]
  },
  {
   "cell_type": "code",
   "execution_count": 48,
   "id": "8dc0c4a5",
   "metadata": {},
   "outputs": [],
   "source": [
    "import pandas as pd"
   ]
  },
  {
   "cell_type": "code",
   "execution_count": 49,
   "id": "d1466f0c",
   "metadata": {},
   "outputs": [
    {
     "data": {
      "text/plain": [
       "'1.4.4'"
      ]
     },
     "execution_count": 49,
     "metadata": {},
     "output_type": "execute_result"
    }
   ],
   "source": [
    "pd.__version__"
   ]
  },
  {
   "cell_type": "code",
   "execution_count": 55,
   "id": "88d74787",
   "metadata": {},
   "outputs": [],
   "source": [
    "arquivo = 'arquivos/salarios.csv'"
   ]
  },
  {
   "cell_type": "code",
   "execution_count": 56,
   "id": "92b7386d",
   "metadata": {},
   "outputs": [],
   "source": [
    "df = pd.read_csv(arquivo)"
   ]
  },
  {
   "cell_type": "code",
   "execution_count": 59,
   "id": "bee81c28",
   "metadata": {},
   "outputs": [
    {
     "data": {
      "text/html": [
       "<div>\n",
       "<style scoped>\n",
       "    .dataframe tbody tr th:only-of-type {\n",
       "        vertical-align: middle;\n",
       "    }\n",
       "\n",
       "    .dataframe tbody tr th {\n",
       "        vertical-align: top;\n",
       "    }\n",
       "\n",
       "    .dataframe thead th {\n",
       "        text-align: right;\n",
       "    }\n",
       "</style>\n",
       "<table border=\"1\" class=\"dataframe\">\n",
       "  <thead>\n",
       "    <tr style=\"text-align: right;\">\n",
       "      <th></th>\n",
       "      <th>Name</th>\n",
       "      <th>Position Title</th>\n",
       "      <th>Department</th>\n",
       "      <th>Employee Annual Salary</th>\n",
       "    </tr>\n",
       "  </thead>\n",
       "  <tbody>\n",
       "    <tr>\n",
       "      <th>0</th>\n",
       "      <td>AARON,  ELVIA J</td>\n",
       "      <td>WATER RATE TAKER</td>\n",
       "      <td>WATER MGMNT</td>\n",
       "      <td>$88967.00</td>\n",
       "    </tr>\n",
       "    <tr>\n",
       "      <th>1</th>\n",
       "      <td>AARON,  JEFFERY M</td>\n",
       "      <td>POLICE OFFICER</td>\n",
       "      <td>POLICE</td>\n",
       "      <td>$80778.00</td>\n",
       "    </tr>\n",
       "    <tr>\n",
       "      <th>2</th>\n",
       "      <td>AARON,  KARINA</td>\n",
       "      <td>POLICE OFFICER</td>\n",
       "      <td>POLICE</td>\n",
       "      <td>$80778.00</td>\n",
       "    </tr>\n",
       "    <tr>\n",
       "      <th>3</th>\n",
       "      <td>AARON,  KIMBERLEI R</td>\n",
       "      <td>CHIEF CONTRACT EXPEDITER</td>\n",
       "      <td>GENERAL SERVICES</td>\n",
       "      <td>$84780.00</td>\n",
       "    </tr>\n",
       "    <tr>\n",
       "      <th>4</th>\n",
       "      <td>ABAD JR,  VICENTE M</td>\n",
       "      <td>CIVIL ENGINEER IV</td>\n",
       "      <td>WATER MGMNT</td>\n",
       "      <td>$104736.00</td>\n",
       "    </tr>\n",
       "  </tbody>\n",
       "</table>\n",
       "</div>"
      ],
      "text/plain": [
       "                  Name            Position Title        Department  \\\n",
       "0      AARON,  ELVIA J          WATER RATE TAKER       WATER MGMNT   \n",
       "1    AARON,  JEFFERY M            POLICE OFFICER            POLICE   \n",
       "2       AARON,  KARINA            POLICE OFFICER            POLICE   \n",
       "3  AARON,  KIMBERLEI R  CHIEF CONTRACT EXPEDITER  GENERAL SERVICES   \n",
       "4  ABAD JR,  VICENTE M         CIVIL ENGINEER IV       WATER MGMNT   \n",
       "\n",
       "  Employee Annual Salary  \n",
       "0              $88967.00  \n",
       "1              $80778.00  \n",
       "2              $80778.00  \n",
       "3              $84780.00  \n",
       "4             $104736.00  "
      ]
     },
     "execution_count": 59,
     "metadata": {},
     "output_type": "execute_result"
    }
   ],
   "source": [
    "df.head()"
   ]
  },
  {
   "cell_type": "code",
   "execution_count": 61,
   "id": "cc50f502",
   "metadata": {},
   "outputs": [
    {
     "data": {
      "text/plain": [
       "POLICE OFFICER                            9489\n",
       "FIREFIGHTER-EMT                           1191\n",
       "SERGEANT                                  1138\n",
       "FIREFIGHTER                                970\n",
       "POLICE OFFICER (ASSIGNED AS DETECTIVE)     808\n",
       "                                          ... \n",
       "FOREMAN OF WINDOW WASHERS                    1\n",
       "SUPVSR OF INFORMATION SERVICES               1\n",
       "MANAGER OF TAX POLICY                        1\n",
       "FOREMAN OF ARCHITECTURAL IRON WORKERS        1\n",
       "MECHANICAL ENGINEER IV                       1\n",
       "Name: Position Title, Length: 1094, dtype: int64"
      ]
     },
     "execution_count": 61,
     "metadata": {},
     "output_type": "execute_result"
    }
   ],
   "source": [
    "df['Position Title'].value_counts()"
   ]
  },
  {
   "cell_type": "code",
   "execution_count": null,
   "id": "1375dc68",
   "metadata": {},
   "outputs": [],
   "source": []
  }
 ],
 "metadata": {
  "kernelspec": {
   "display_name": "Python 3 (ipykernel)",
   "language": "python",
   "name": "python3"
  },
  "language_info": {
   "codemirror_mode": {
    "name": "ipython",
    "version": 3
   },
   "file_extension": ".py",
   "mimetype": "text/x-python",
   "name": "python",
   "nbconvert_exporter": "python",
   "pygments_lexer": "ipython3",
   "version": "3.9.13"
  }
 },
 "nbformat": 4,
 "nbformat_minor": 5
}
