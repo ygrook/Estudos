{
 "cells": [
  {
   "cell_type": "code",
   "execution_count": null,
   "id": "4e275871",
   "metadata": {},
   "outputs": [],
   "source": [
    "print(\"\\n******************* Calculadora em Python *******************\")\n",
    "\n",
    "print('Exiba Selecione o número da operação desejada: ')\n",
    "print('1 - Soma')\n",
    "print('2 - Subtração')\n",
    "print('3 - Multiplicação')\n",
    "print('4 - Divisão')\n",
    "\n",
    "print op = input('Digite sua opção (1/2/3/4): ')\n",
    "\n",
    "num1 = input('Digite o primeiro número: ')\n",
    "num2 = input('Digite o segundo número: ')\n",
    "\n",
    "soma = lambda x, y: x + y\n",
    "subtracao = lambda x, y: x - y\n",
    "multi = lambda x, y: x * y\n",
    "divisao = lambda x,y: x / y\n",
    "\n",
    "resultado = [if op == 1: soma(num1, num2) elif op == 2: subtracao(num1, num2) elif op == 3: multi(num1, num2) elif op == 4: divisao(num1, num2) else: print('Opção Invalida') ]\n",
    " \n",
    "print(num1 + 'op' + num2 = resultado)"
   ]
  },
  {
   "cell_type": "code",
   "execution_count": null,
   "id": "f4d7efb3",
   "metadata": {},
   "outputs": [],
   "source": []
  }
 ],
 "metadata": {
  "kernelspec": {
   "display_name": "Python 3 (ipykernel)",
   "language": "python",
   "name": "python3"
  },
  "language_info": {
   "codemirror_mode": {
    "name": "ipython",
    "version": 3
   },
   "file_extension": ".py",
   "mimetype": "text/x-python",
   "name": "python",
   "nbconvert_exporter": "python",
   "pygments_lexer": "ipython3",
   "version": "3.9.13"
  }
 },
 "nbformat": 4,
 "nbformat_minor": 5
}
