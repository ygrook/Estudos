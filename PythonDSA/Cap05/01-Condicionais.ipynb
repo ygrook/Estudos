{
 "cells": [
  {
   "cell_type": "markdown",
   "id": "49b887b7",
   "metadata": {},
   "source": [
    "# Condicional IF"
   ]
  },
  {
   "cell_type": "code",
   "execution_count": 2,
   "id": "c8a90200",
   "metadata": {},
   "outputs": [],
   "source": [
    "# Condicional If"
   ]
  },
  {
   "cell_type": "code",
   "execution_count": 4,
   "id": "a3cbcf38",
   "metadata": {},
   "outputs": [
    {
     "name": "stdout",
     "output_type": "stream",
     "text": [
      "A Sentença é verdadeira\n"
     ]
    }
   ],
   "source": [
    "if 5 > 2:\n",
    "    print('A sentença é verdadeira')"
   ]
  },
  {
   "cell_type": "code",
   "execution_count": 6,
   "id": "f1056a9c",
   "metadata": {},
   "outputs": [
    {
     "name": "stdout",
     "output_type": "stream",
     "text": [
      "A sentença é falsa\n"
     ]
    }
   ],
   "source": [
    "# Condicional if...Else\n",
    "if 5 < 2:\n",
    "    print('A sentença é verdadeira')\n",
    "else:\n",
    "    print('A sentença é falsa')"
   ]
  },
  {
   "cell_type": "code",
   "execution_count": 9,
   "id": "d577ac09",
   "metadata": {},
   "outputs": [
    {
     "name": "stdout",
     "output_type": "stream",
     "text": [
      "Hoje vai chover\n"
     ]
    }
   ],
   "source": [
    "# Condicional if...else com variável\n",
    "dia = 'Terça'\n",
    "if dia == 'Segunda':\n",
    "    print('Hoje fará sol')\n",
    "else:\n",
    "    print('Hoje vai chover')\n",
    "    "
   ]
  },
  {
   "cell_type": "code",
   "execution_count": 12,
   "id": "d76c79b2",
   "metadata": {},
   "outputs": [
    {
     "name": "stdout",
     "output_type": "stream",
     "text": [
      "Hoje vai chover\n"
     ]
    }
   ],
   "source": [
    "# Podemos usar o operador elif para validar mais de uma condição\n",
    "if dia == 'Segunda':\n",
    "    print('Hoje fará sol')\n",
    "elif dia == 'Terça':\n",
    "    print('Hoje vai chover')\n",
    "else:\n",
    "    print('Sem previsão do tempo para o dia selecionado')"
   ]
  },
  {
   "cell_type": "markdown",
   "id": "d2bb0df3",
   "metadata": {},
   "source": [
    "# Operadores Relacionais"
   ]
  },
  {
   "cell_type": "code",
   "execution_count": 13,
   "id": "8b101726",
   "metadata": {},
   "outputs": [
    {
     "data": {
      "text/plain": [
       "True"
      ]
     },
     "execution_count": 13,
     "metadata": {},
     "output_type": "execute_result"
    }
   ],
   "source": [
    "6 > 3"
   ]
  },
  {
   "cell_type": "code",
   "execution_count": 14,
   "id": "86d9a745",
   "metadata": {},
   "outputs": [
    {
     "data": {
      "text/plain": [
       "False"
      ]
     },
     "execution_count": 14,
     "metadata": {},
     "output_type": "execute_result"
    }
   ],
   "source": [
    "3 > 7"
   ]
  },
  {
   "cell_type": "code",
   "execution_count": 15,
   "id": "abbe3ca8",
   "metadata": {},
   "outputs": [
    {
     "data": {
      "text/plain": [
       "True"
      ]
     },
     "execution_count": 15,
     "metadata": {},
     "output_type": "execute_result"
    }
   ],
   "source": [
    "4 < 8"
   ]
  },
  {
   "cell_type": "code",
   "execution_count": 16,
   "id": "fda4950d",
   "metadata": {},
   "outputs": [
    {
     "data": {
      "text/plain": [
       "True"
      ]
     },
     "execution_count": 16,
     "metadata": {},
     "output_type": "execute_result"
    }
   ],
   "source": [
    "4 >= 4"
   ]
  },
  {
   "cell_type": "code",
   "execution_count": 17,
   "id": "beeb05d0",
   "metadata": {},
   "outputs": [
    {
     "name": "stdout",
     "output_type": "stream",
     "text": [
      "Testando Python\n"
     ]
    }
   ],
   "source": [
    "if 5 == 5:\n",
    "    print('Testando Python')"
   ]
  },
  {
   "cell_type": "code",
   "execution_count": 19,
   "id": "179efe9a",
   "metadata": {},
   "outputs": [
    {
     "name": "stdout",
     "output_type": "stream",
     "text": [
      "Parece que python funciona\n"
     ]
    }
   ],
   "source": [
    "if True:\n",
    "    print('Parece que python funciona')"
   ]
  },
  {
   "cell_type": "code",
   "execution_count": 20,
   "id": "8dbcba05",
   "metadata": {},
   "outputs": [
    {
     "name": "stdout",
     "output_type": "stream",
     "text": [
      "Tudo Funciona\n"
     ]
    }
   ],
   "source": [
    "# Atenção com oa sintaxe\n",
    "if 4 > 3:\n",
    "    print('Tudo Funciona')"
   ]
  },
  {
   "cell_type": "code",
   "execution_count": 21,
   "id": "3ce60758",
   "metadata": {},
   "outputs": [
    {
     "ename": "IndentationError",
     "evalue": "expected an indented block (2980292653.py, line 3)",
     "output_type": "error",
     "traceback": [
      "\u001b[1;36m  File \u001b[1;32m\"C:\\Users\\Gabriel Jesus\\AppData\\Local\\Temp\\ipykernel_3316\\2980292653.py\"\u001b[1;36m, line \u001b[1;32m3\u001b[0m\n\u001b[1;33m    print('Tudo funciona')\u001b[0m\n\u001b[1;37m    ^\u001b[0m\n\u001b[1;31mIndentationError\u001b[0m\u001b[1;31m:\u001b[0m expected an indented block\n"
     ]
    }
   ],
   "source": [
    "# Atenção com a sintaxe\n",
    "if 4 > 3\n",
    "print('Tudo funciona')"
   ]
  },
  {
   "cell_type": "code",
   "execution_count": 22,
   "id": "35a389a5",
   "metadata": {},
   "outputs": [
    {
     "ename": "SyntaxError",
     "evalue": "invalid syntax (408615983.py, line 2)",
     "output_type": "error",
     "traceback": [
      "\u001b[1;36m  File \u001b[1;32m\"C:\\Users\\Gabriel Jesus\\AppData\\Local\\Temp\\ipykernel_3316\\408615983.py\"\u001b[1;36m, line \u001b[1;32m2\u001b[0m\n\u001b[1;33m    if 4 > 3\u001b[0m\n\u001b[1;37m            ^\u001b[0m\n\u001b[1;31mSyntaxError\u001b[0m\u001b[1;31m:\u001b[0m invalid syntax\n"
     ]
    }
   ],
   "source": [
    "# Atenção com a sintaxe\n",
    "if 4 > 3\n",
    "    print('Tudo funciona')"
   ]
  },
  {
   "cell_type": "markdown",
   "id": "105c5b23",
   "metadata": {},
   "source": [
    "# Atenção com a identação"
   ]
  },
  {
   "cell_type": "markdown",
   "id": "e4b8cacc",
   "metadata": {},
   "source": [
    "# Condicionais Aninhados"
   ]
  },
  {
   "cell_type": "code",
   "execution_count": 24,
   "id": "ce02b67a",
   "metadata": {},
   "outputs": [
    {
     "name": "stdout",
     "output_type": "stream",
     "text": [
      "Você pode dirigir\n"
     ]
    }
   ],
   "source": [
    "idade = 18\n",
    "if idade > 17:\n",
    "    print('Você pode dirigir')"
   ]
  },
  {
   "cell_type": "code",
   "execution_count": 27,
   "id": "146fd96c",
   "metadata": {},
   "outputs": [
    {
     "name": "stdout",
     "output_type": "stream",
     "text": [
      "Ok bob, você está autorizado a entrar\n"
     ]
    }
   ],
   "source": [
    "nome = 'Bob'\n",
    "if idade > 13:\n",
    "    if nome == 'Bob':\n",
    "        print('Ok bob, você está autorizado a entrar')\n",
    "    else:\n",
    "        print('Desculpe, mas você não pode entrar')"
   ]
  },
  {
   "cell_type": "code",
   "execution_count": 30,
   "id": "d780e06c",
   "metadata": {},
   "outputs": [
    {
     "name": "stdout",
     "output_type": "stream",
     "text": [
      "Ok Bob, você pode autorizado a entrar\n"
     ]
    }
   ],
   "source": [
    "idade = 13\n",
    "nome = 'Bob'\n",
    "if idade >= 13 and nome == 'Bob':\n",
    "    print('Ok Bob, você pode autorizado a entrar')"
   ]
  },
  {
   "cell_type": "code",
   "execution_count": 31,
   "id": "a589f23f",
   "metadata": {},
   "outputs": [
    {
     "name": "stdout",
     "output_type": "stream",
     "text": [
      "Ok bob, você está autorizado a entrar\n"
     ]
    }
   ],
   "source": [
    "idade = 12\n",
    "nome = 'Bob'\n",
    "if (idade >= 13) or (nome == 'Bob'):\n",
    "    print('Ok bob, você está autorizado a entrar')"
   ]
  },
  {
   "cell_type": "markdown",
   "id": "d0eee7a3",
   "metadata": {},
   "source": [
    "# Operadores Lógicos"
   ]
  },
  {
   "cell_type": "code",
   "execution_count": 34,
   "id": "b419e925",
   "metadata": {},
   "outputs": [
    {
     "name": "stdout",
     "output_type": "stream",
     "text": [
      "Você pode dirigir\n"
     ]
    }
   ],
   "source": [
    "idade = 18 \n",
    "nome = 'Bob'\n",
    "if idade > 17:\n",
    "    print('Você pode dirigir')"
   ]
  },
  {
   "cell_type": "code",
   "execution_count": 35,
   "id": "21a49ab6",
   "metadata": {},
   "outputs": [
    {
     "name": "stdout",
     "output_type": "stream",
     "text": [
      "Autorizado\n"
     ]
    }
   ],
   "source": [
    "idade = 18\n",
    "if idade > 17 and nome == 'Bob':\n",
    "    print('Autorizado')"
   ]
  },
  {
   "cell_type": "code",
   "execution_count": 38,
   "id": "3b4b657f",
   "metadata": {},
   "outputs": [
    {
     "name": "stdout",
     "output_type": "stream",
     "text": [
      "Isso está sendo impresso porque as duas condições são verdadeiras\n"
     ]
    }
   ],
   "source": [
    "# Operador and\n",
    "numero = 4\n",
    "\n",
    "if numero > 2 and numero % 2 == 0:\n",
    "    print('Isso está sendo impresso porque as duas condições são verdadeiras')"
   ]
  },
  {
   "cell_type": "code",
   "execution_count": 40,
   "id": "f2060623",
   "metadata": {},
   "outputs": [
    {
     "name": "stdout",
     "output_type": "stream",
     "text": [
      "Isso está sendo impresso porque uma das duas condições é falsa\n"
     ]
    }
   ],
   "source": [
    "nummero = 4 \n",
    "\n",
    "if numero > 5 and numero % 2 == 0:\n",
    "    print('Isso está sendo impresso porque as duas condições são verdadeiras')\n",
    "else:\n",
    "    print('Isso está sendo impresso porque uma das duas condições é falsa')\n"
   ]
  },
  {
   "cell_type": "code",
   "execution_count": 43,
   "id": "694a7eb6",
   "metadata": {},
   "outputs": [
    {
     "name": "stdout",
     "output_type": "stream",
     "text": [
      "Isso está sendo impresso porue as duas condições é verdadeira\n"
     ]
    }
   ],
   "source": [
    "# Operador or\n",
    "numero = 4\n",
    "\n",
    "if numero > 5 or numero % 2 == 0:\n",
    "    print('Isso está sendo impresso porue as duas condições é verdadeira')\n",
    "else:\n",
    "    print('Isso está sendo impresso porue uma das condições é falsa')"
   ]
  },
  {
   "cell_type": "code",
   "execution_count": 45,
   "id": "6e28f708",
   "metadata": {},
   "outputs": [
    {
     "name": "stdout",
     "output_type": "stream",
     "text": [
      "Isso está sendo impresso porue as duas condições é verdadeira\n"
     ]
    }
   ],
   "source": [
    "# Operador not\n",
    "numero = 4\n",
    "\n",
    "if not(numero > 5) and numero % 2 == 0:\n",
    "    print('Isso está sendo impresso porue as duas condições é verdadeira')\n",
    "else:\n",
    "    print('Isso está sendo impresso porue uma das condições é falsa')"
   ]
  },
  {
   "cell_type": "code",
   "execution_count": 46,
   "id": "9e8428a1",
   "metadata": {},
   "outputs": [
    {
     "name": "stdout",
     "output_type": "stream",
     "text": [
      "Isso está sendo impresso porue as duas primeiras condições são verdadeiras ou a terceira é verdadeira\n"
     ]
    }
   ],
   "source": [
    "# Operador and, or e not\n",
    "\n",
    "numero = 4\n",
    "\n",
    "if not(numero > 5) and (numero % 2 == 0) or (numero == 4):\n",
    "    print('Isso está sendo impresso porue as duas primeiras condições são verdadeiras ou a terceira é verdadeira')"
   ]
  },
  {
   "cell_type": "code",
   "execution_count": 48,
   "id": "9ae0aad7",
   "metadata": {},
   "outputs": [
    {
     "name": "stdout",
     "output_type": "stream",
     "text": [
      "Você foi aprovado\n"
     ]
    }
   ],
   "source": [
    "# Exemplo com o uso de variáeis\n",
    "\n",
    "disciplina = 'Data Science'\n",
    "nota_final = 70\n",
    "\n",
    "if disciplina == 'Data Science' and nota_final >= 70:\n",
    "    print('Você foi aprovado')\n",
    "else:\n",
    "    print('Lamento, acho que você precisa estudar mais')"
   ]
  },
  {
   "cell_type": "code",
   "execution_count": 49,
   "id": "2c13076e",
   "metadata": {},
   "outputs": [
    {
     "name": "stdout",
     "output_type": "stream",
     "text": [
      "Lamento, acho que você precisa estudar mais\n"
     ]
    }
   ],
   "source": [
    "# Usando mais de uma condição na cláusula if\n",
    "\n",
    "disciplina = 'Data Science'\n",
    "nota_final = 60\n",
    "\n",
    "if disciplina == 'Data Science' and nota_final >= 70:\n",
    "    print('Você foi aprovado')\n",
    "else:\n",
    "    print('Lamento, acho que você precisa estudar mais')"
   ]
  },
  {
   "cell_type": "code",
   "execution_count": 50,
   "id": "4c58dcca",
   "metadata": {},
   "outputs": [
    {
     "name": "stdout",
     "output_type": "stream",
     "text": [
      "Você foi aprovado em Data Science com média final 70!\n"
     ]
    }
   ],
   "source": [
    "# Usando mais que uma condição em clásula if e introduzindo placeholders\n",
    "\n",
    "disciplina = 'Data Science'\n",
    "nota_final = 70\n",
    "semestre = 2\n",
    "\n",
    "if disciplina == 'Data Science' and nota_final >= 70 and semestre != 1:\n",
    "    print('Você foi aprovado em %s com média final %r!' %(disciplina, nota_final))"
   ]
  },
  {
   "cell_type": "code",
   "execution_count": null,
   "id": "38dd2e16",
   "metadata": {},
   "outputs": [],
   "source": []
  }
 ],
 "metadata": {
  "kernelspec": {
   "display_name": "Python 3 (ipykernel)",
   "language": "python",
   "name": "python3"
  },
  "language_info": {
   "codemirror_mode": {
    "name": "ipython",
    "version": 3
   },
   "file_extension": ".py",
   "mimetype": "text/x-python",
   "name": "python",
   "nbconvert_exporter": "python",
   "pygments_lexer": "ipython3",
   "version": "3.9.13"
  }
 },
 "nbformat": 4,
 "nbformat_minor": 5
}
