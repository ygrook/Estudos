{
 "cells": [
  {
   "cell_type": "markdown",
   "id": "ddf49e04",
   "metadata": {},
   "source": [
    "# Usando Loop While"
   ]
  },
  {
   "cell_type": "code",
   "execution_count": 1,
   "id": "f9d00f02",
   "metadata": {},
   "outputs": [
    {
     "name": "stdout",
     "output_type": "stream",
     "text": [
      "0\n",
      "1\n",
      "2\n",
      "3\n",
      "4\n",
      "5\n",
      "6\n",
      "7\n",
      "8\n",
      "9\n"
     ]
    }
   ],
   "source": [
    "# Usando o loop While para imprimir os valores de 0 a 9\n",
    "valor = 0\n",
    "while valor < 10:\n",
    "    print(valor)\n",
    "    valor += 1"
   ]
  },
  {
   "cell_type": "code",
   "execution_count": 2,
   "id": "0afa0b03",
   "metadata": {},
   "outputs": [],
   "source": [
    "# Entra no loop somente se a condição for verdadeira\n",
    "valor = 11\n",
    "while valor < 10:\n",
    "    print(v)\n",
    "    valor += valor"
   ]
  },
  {
   "cell_type": "code",
   "execution_count": 3,
   "id": "262eae02",
   "metadata": {},
   "outputs": [
    {
     "name": "stdout",
     "output_type": "stream",
     "text": [
      "O valor de x nesta interação é:  0\n",
      " x ainda é menor que 10, somando 1 a x\n",
      "O valor de x nesta interação é:  1\n",
      " x ainda é menor que 10, somando 1 a x\n",
      "O valor de x nesta interação é:  2\n",
      " x ainda é menor que 10, somando 1 a x\n",
      "O valor de x nesta interação é:  3\n",
      " x ainda é menor que 10, somando 1 a x\n",
      "O valor de x nesta interação é:  4\n",
      " x ainda é menor que 10, somando 1 a x\n",
      "O valor de x nesta interação é:  5\n",
      " x ainda é menor que 10, somando 1 a x\n",
      "O valor de x nesta interação é:  6\n",
      " x ainda é menor que 10, somando 1 a x\n",
      "O valor de x nesta interação é:  7\n",
      " x ainda é menor que 10, somando 1 a x\n",
      "O valor de x nesta interação é:  8\n",
      " x ainda é menor que 10, somando 1 a x\n",
      "O valor de x nesta interação é:  9\n",
      " x ainda é menor que 10, somando 1 a x\n",
      "Loop concluído\n",
      "10\n"
     ]
    }
   ],
   "source": [
    "# Também é possível usar a clasula else para encerrar o loop while\n",
    "x = 0\n",
    "\n",
    "while x < 10:\n",
    "    print('O valor de x nesta interação é: ', x)\n",
    "    print(' x ainda é menor que 10, somando 1 a x')\n",
    "    x += 1\n",
    "else:\n",
    "    print('Loop concluído')\n",
    "print(x)"
   ]
  },
  {
   "cell_type": "code",
   "execution_count": 4,
   "id": "b670a415",
   "metadata": {},
   "outputs": [
    {
     "name": "stdout",
     "output_type": "stream",
     "text": [
      "0\n",
      "1\n",
      "2\n",
      "3\n"
     ]
    }
   ],
   "source": [
    "# Se encontrarmos o número 4 interropemos o loop\n",
    "valor = 0\n",
    "while valor < 10:\n",
    "    if valor == 4:\n",
    "        break\n",
    "    else:\n",
    "        pass\n",
    "    print(valor)\n",
    "    valor += 1"
   ]
  },
  {
   "cell_type": "code",
   "execution_count": 5,
   "id": "a147b93b",
   "metadata": {},
   "outputs": [
    {
     "name": "stdout",
     "output_type": "stream",
     "text": [
      "P\n",
      "y\n",
      "t\n",
      "h\n",
      "o\n",
      "n\n",
      " \n",
      "é\n",
      " \n",
      " \n",
      "i\n",
      "n\n",
      "c\n",
      "r\n",
      "i\n",
      "v\n",
      "e\n",
      "l\n"
     ]
    }
   ],
   "source": [
    "# Desconsideramos a letra z ao imprimir os caractere de frase\n",
    "for letra in 'Python é zzz incrivel':\n",
    "    if letra == 'z':\n",
    "        continue\n",
    "    print(letra)"
   ]
  },
  {
   "cell_type": "markdown",
   "id": "38aabaac",
   "metadata": {},
   "source": [
    "# While e For Juntos"
   ]
  },
  {
   "cell_type": "markdown",
   "id": "e74b2d47",
   "metadata": {},
   "source": [
    "Inicialize uma lista vazia para armazenar os número primos\n",
    "Para cada número N entre 2 e 30:\n",
    "    Inicialize uma variável eh_primo como verdadeira\n",
    "    Para cada numero i entre 2 e N/2:\n",
    "        Se N é divisivel por i, então:\n",
    "            Altere a variável eh_primo para false\n",
    "            Pare verificar os outro números\n",
    "    Se a variável eh_primo ainda é verdadeira, adicione N a lista de números primos\n",
    "Imprima a lista de números primos\n"
   ]
  },
  {
   "cell_type": "code",
   "execution_count": 6,
   "id": "ed764b0c",
   "metadata": {},
   "outputs": [
    {
     "name": "stdout",
     "output_type": "stream",
     "text": [
      "[2, 3, 5, 7, 11, 13, 17, 19, 23, 29]\n",
      "Wall time: 0 ns\n"
     ]
    }
   ],
   "source": [
    "%%time\n",
    "\n",
    "primos = [ ]\n",
    "\n",
    "for num in range(2,31):\n",
    "    \n",
    "    eh_primo = True \n",
    "    \n",
    "    i = 2\n",
    "    while i <= num // 2:\n",
    "        if num % i == 0:\n",
    "            eh_primo = False\n",
    "            break\n",
    "        i += 1\n",
    "    \n",
    "    if eh_primo:\n",
    "        primos.append(num)\n",
    "        \n",
    "print(primos)\n",
    "    \n",
    "            "
   ]
  },
  {
   "cell_type": "code",
   "execution_count": null,
   "id": "8184a3c1",
   "metadata": {},
   "outputs": [],
   "source": []
  }
 ],
 "metadata": {
  "kernelspec": {
   "display_name": "Python 3 (ipykernel)",
   "language": "python",
   "name": "python3"
  },
  "language_info": {
   "codemirror_mode": {
    "name": "ipython",
    "version": 3
   },
   "file_extension": ".py",
   "mimetype": "text/x-python",
   "name": "python",
   "nbconvert_exporter": "python",
   "pygments_lexer": "ipython3",
   "version": "3.9.13"
  }
 },
 "nbformat": 4,
 "nbformat_minor": 5
}
