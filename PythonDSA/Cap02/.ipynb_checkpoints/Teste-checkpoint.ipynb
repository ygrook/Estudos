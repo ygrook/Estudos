{
 "cells": [
  {
   "cell_type": "code",
   "execution_count": 1,
   "id": "e3c9cd56",
   "metadata": {},
   "outputs": [
    {
     "data": {
      "text/plain": [
       "4"
      ]
     },
     "execution_count": 1,
     "metadata": {},
     "output_type": "execute_result"
    }
   ],
   "source": [
    "2 + 2"
   ]
  },
  {
   "cell_type": "code",
   "execution_count": 3,
   "id": "2dd037bc",
   "metadata": {},
   "outputs": [
    {
     "name": "stdout",
     "output_type": "stream",
     "text": [
      "Olá mundo\n"
     ]
    }
   ],
   "source": [
    "print ('Olá mundo')"
   ]
  },
  {
   "cell_type": "markdown",
   "id": "c6967558",
   "metadata": {},
   "source": [
    " Gere código Python que crie uma lista com os números entre 1 e 100 e ent\n",
    " ã\n",
    " o imprima os números pares, mas somente se o\n",
    " número for divisível por 4"
   ]
  },
  {
   "cell_type": "code",
   "execution_count": null,
   "id": "145d7211",
   "metadata": {},
   "outputs": [],
   "source": [
    "# Cria uma lista com os números entre 1 e 100\n",
    " numeros = list(range(1, 101))"
   ]
  },
  {
   "cell_type": "code",
   "execution_count": 5,
   "id": "47dd4f6d",
   "metadata": {},
   "outputs": [
    {
     "data": {
      "text/plain": [
       "list"
      ]
     },
     "execution_count": 5,
     "metadata": {},
     "output_type": "execute_result"
    }
   ],
   "source": [
    "type (numeros)"
   ]
  },
  {
   "cell_type": "code",
   "execution_count": 3,
   "id": "216b4158",
   "metadata": {
    "scrolled": true
   },
   "outputs": [
    {
     "name": "stdout",
     "output_type": "stream",
     "text": [
      "4\n",
      "8\n",
      "12\n",
      "16\n",
      "20\n",
      "24\n",
      "28\n",
      "32\n",
      "36\n",
      "40\n",
      "44\n",
      "48\n",
      "52\n",
      "56\n",
      "60\n",
      "64\n",
      "68\n",
      "72\n",
      "76\n",
      "80\n",
      "84\n",
      "88\n",
      "92\n",
      "96\n",
      "100\n"
     ]
    }
   ],
   "source": [
    " # Cria uma lista com os números entre 1 e 100\n",
    " numeros = list(range(1, 101))\n",
    " # Percorre a lista e verifica se o número é par e divisível por 4\n",
    " for numero in numeros:\n",
    "     if numero % 2 == 0 and numero % 4 == 0:\n",
    "         print(numero)"
   ]
  },
  {
   "cell_type": "markdown",
   "id": "69942dbe",
   "metadata": {},
   "source": [
    " Gere código Python que crie uma lista com os números entre 1 e 100 e ent\n",
    " ã\n",
    " o imprima os números pares, mas somente se o\n",
    " número for divisível por 4, usando list comprehension."
   ]
  },
  {
   "cell_type": "code",
   "execution_count": 6,
   "id": "97321382",
   "metadata": {},
   "outputs": [
    {
     "name": "stdout",
     "output_type": "stream",
     "text": [
      "[4, 8, 12, 16, 20, 24, 28, 32, 36, 40, 44, 48, 52, 56, 60, 64, 68, 72, 76, 80, 84, 88, 92, 96, 100]\n"
     ]
    }
   ],
   "source": [
    " # Cria uma lista com os números entre 1 e 100\n",
    " numeros = list(range(1, 101))\n",
    " # Usa a list comprehension para gerar uma lista somente com os números pares e divisíveis por 4\n",
    " pares_div4 = [numero for numero in numeros if numero % 2 == 0 and numero % 4 == 0]\n",
    " # Imprime a lista gerada\n",
    " print(pares_div4)\n"
   ]
  },
  {
   "cell_type": "code",
   "execution_count": null,
   "id": "15797734",
   "metadata": {},
   "outputs": [],
   "source": []
  }
 ],
 "metadata": {
  "kernelspec": {
   "display_name": "Python 3 (ipykernel)",
   "language": "python",
   "name": "python3"
  },
  "language_info": {
   "codemirror_mode": {
    "name": "ipython",
    "version": 3
   },
   "file_extension": ".py",
   "mimetype": "text/x-python",
   "name": "python",
   "nbconvert_exporter": "python",
   "pygments_lexer": "ipython3",
   "version": "3.9.13"
  }
 },
 "nbformat": 4,
 "nbformat_minor": 5
}
